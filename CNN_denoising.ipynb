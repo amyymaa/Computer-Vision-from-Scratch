{
  "nbformat": 4,
  "nbformat_minor": 0,
  "metadata": {
    "colab": {
      "name": "hw3-students.ipynb",
      "provenance": [],
      "collapsed_sections": []
    },
    "kernelspec": {
      "name": "python3",
      "display_name": "Python 3"
    },
    "accelerator": "GPU",
    "widgets": {
      "application/vnd.jupyter.widget-state+json": {
        "346ff0a667464b3db69a8db14665f436": {
          "model_module": "@jupyter-widgets/controls",
          "model_name": "HBoxModel",
          "state": {
            "_view_name": "HBoxView",
            "_dom_classes": [],
            "_model_name": "HBoxModel",
            "_view_module": "@jupyter-widgets/controls",
            "_model_module_version": "1.5.0",
            "_view_count": null,
            "_view_module_version": "1.5.0",
            "box_style": "",
            "layout": "IPY_MODEL_9dd480d44a5f4e149b2e7293b5878047",
            "_model_module": "@jupyter-widgets/controls",
            "children": [
              "IPY_MODEL_d325e5b1a9db4d0888915f93bbc36783",
              "IPY_MODEL_091c2ce6620b4a498ed559862bd9e4df"
            ]
          }
        },
        "9dd480d44a5f4e149b2e7293b5878047": {
          "model_module": "@jupyter-widgets/base",
          "model_name": "LayoutModel",
          "state": {
            "_view_name": "LayoutView",
            "grid_template_rows": null,
            "right": null,
            "justify_content": null,
            "_view_module": "@jupyter-widgets/base",
            "overflow": null,
            "_model_module_version": "1.2.0",
            "_view_count": null,
            "flex_flow": null,
            "width": null,
            "min_width": null,
            "border": null,
            "align_items": null,
            "bottom": null,
            "_model_module": "@jupyter-widgets/base",
            "top": null,
            "grid_column": null,
            "overflow_y": null,
            "overflow_x": null,
            "grid_auto_flow": null,
            "grid_area": null,
            "grid_template_columns": null,
            "flex": null,
            "_model_name": "LayoutModel",
            "justify_items": null,
            "grid_row": null,
            "max_height": null,
            "align_content": null,
            "visibility": null,
            "align_self": null,
            "height": null,
            "min_height": null,
            "padding": null,
            "grid_auto_rows": null,
            "grid_gap": null,
            "max_width": null,
            "order": null,
            "_view_module_version": "1.2.0",
            "grid_template_areas": null,
            "object_position": null,
            "object_fit": null,
            "grid_auto_columns": null,
            "margin": null,
            "display": null,
            "left": null
          }
        },
        "d325e5b1a9db4d0888915f93bbc36783": {
          "model_module": "@jupyter-widgets/controls",
          "model_name": "FloatProgressModel",
          "state": {
            "_view_name": "ProgressView",
            "style": "IPY_MODEL_7480d90410db47959bca811f667f5f13",
            "_dom_classes": [],
            "description": "",
            "_model_name": "FloatProgressModel",
            "bar_style": "info",
            "max": 1,
            "_view_module": "@jupyter-widgets/controls",
            "_model_module_version": "1.5.0",
            "value": 1,
            "_view_count": null,
            "_view_module_version": "1.5.0",
            "orientation": "horizontal",
            "min": 0,
            "description_tooltip": null,
            "_model_module": "@jupyter-widgets/controls",
            "layout": "IPY_MODEL_1d09b50661e8422d984cd9f1b99196bd"
          }
        },
        "091c2ce6620b4a498ed559862bd9e4df": {
          "model_module": "@jupyter-widgets/controls",
          "model_name": "HTMLModel",
          "state": {
            "_view_name": "HTMLView",
            "style": "IPY_MODEL_14e72ff5b31d4f629fcecfca3f7a00af",
            "_dom_classes": [],
            "description": "",
            "_model_name": "HTMLModel",
            "placeholder": "​",
            "_view_module": "@jupyter-widgets/controls",
            "_model_module_version": "1.5.0",
            "value": " 26427392/? [00:20&lt;00:00, 3704245.82it/s]",
            "_view_count": null,
            "_view_module_version": "1.5.0",
            "description_tooltip": null,
            "_model_module": "@jupyter-widgets/controls",
            "layout": "IPY_MODEL_a255f5ace8f2417f9d017096e437536a"
          }
        },
        "7480d90410db47959bca811f667f5f13": {
          "model_module": "@jupyter-widgets/controls",
          "model_name": "ProgressStyleModel",
          "state": {
            "_view_name": "StyleView",
            "_model_name": "ProgressStyleModel",
            "description_width": "initial",
            "_view_module": "@jupyter-widgets/base",
            "_model_module_version": "1.5.0",
            "_view_count": null,
            "_view_module_version": "1.2.0",
            "bar_color": null,
            "_model_module": "@jupyter-widgets/controls"
          }
        },
        "1d09b50661e8422d984cd9f1b99196bd": {
          "model_module": "@jupyter-widgets/base",
          "model_name": "LayoutModel",
          "state": {
            "_view_name": "LayoutView",
            "grid_template_rows": null,
            "right": null,
            "justify_content": null,
            "_view_module": "@jupyter-widgets/base",
            "overflow": null,
            "_model_module_version": "1.2.0",
            "_view_count": null,
            "flex_flow": null,
            "width": null,
            "min_width": null,
            "border": null,
            "align_items": null,
            "bottom": null,
            "_model_module": "@jupyter-widgets/base",
            "top": null,
            "grid_column": null,
            "overflow_y": null,
            "overflow_x": null,
            "grid_auto_flow": null,
            "grid_area": null,
            "grid_template_columns": null,
            "flex": null,
            "_model_name": "LayoutModel",
            "justify_items": null,
            "grid_row": null,
            "max_height": null,
            "align_content": null,
            "visibility": null,
            "align_self": null,
            "height": null,
            "min_height": null,
            "padding": null,
            "grid_auto_rows": null,
            "grid_gap": null,
            "max_width": null,
            "order": null,
            "_view_module_version": "1.2.0",
            "grid_template_areas": null,
            "object_position": null,
            "object_fit": null,
            "grid_auto_columns": null,
            "margin": null,
            "display": null,
            "left": null
          }
        },
        "14e72ff5b31d4f629fcecfca3f7a00af": {
          "model_module": "@jupyter-widgets/controls",
          "model_name": "DescriptionStyleModel",
          "state": {
            "_view_name": "StyleView",
            "_model_name": "DescriptionStyleModel",
            "description_width": "",
            "_view_module": "@jupyter-widgets/base",
            "_model_module_version": "1.5.0",
            "_view_count": null,
            "_view_module_version": "1.2.0",
            "_model_module": "@jupyter-widgets/controls"
          }
        },
        "a255f5ace8f2417f9d017096e437536a": {
          "model_module": "@jupyter-widgets/base",
          "model_name": "LayoutModel",
          "state": {
            "_view_name": "LayoutView",
            "grid_template_rows": null,
            "right": null,
            "justify_content": null,
            "_view_module": "@jupyter-widgets/base",
            "overflow": null,
            "_model_module_version": "1.2.0",
            "_view_count": null,
            "flex_flow": null,
            "width": null,
            "min_width": null,
            "border": null,
            "align_items": null,
            "bottom": null,
            "_model_module": "@jupyter-widgets/base",
            "top": null,
            "grid_column": null,
            "overflow_y": null,
            "overflow_x": null,
            "grid_auto_flow": null,
            "grid_area": null,
            "grid_template_columns": null,
            "flex": null,
            "_model_name": "LayoutModel",
            "justify_items": null,
            "grid_row": null,
            "max_height": null,
            "align_content": null,
            "visibility": null,
            "align_self": null,
            "height": null,
            "min_height": null,
            "padding": null,
            "grid_auto_rows": null,
            "grid_gap": null,
            "max_width": null,
            "order": null,
            "_view_module_version": "1.2.0",
            "grid_template_areas": null,
            "object_position": null,
            "object_fit": null,
            "grid_auto_columns": null,
            "margin": null,
            "display": null,
            "left": null
          }
        },
        "aa6acd501b944cce8924b28875ae8933": {
          "model_module": "@jupyter-widgets/controls",
          "model_name": "HBoxModel",
          "state": {
            "_view_name": "HBoxView",
            "_dom_classes": [],
            "_model_name": "HBoxModel",
            "_view_module": "@jupyter-widgets/controls",
            "_model_module_version": "1.5.0",
            "_view_count": null,
            "_view_module_version": "1.5.0",
            "box_style": "",
            "layout": "IPY_MODEL_f0a349e786784a9fa83b4f2ef0ab5a0d",
            "_model_module": "@jupyter-widgets/controls",
            "children": [
              "IPY_MODEL_f34d0abd76774d968429938ccebafda1",
              "IPY_MODEL_325d864a4852401392591f799d792987"
            ]
          }
        },
        "f0a349e786784a9fa83b4f2ef0ab5a0d": {
          "model_module": "@jupyter-widgets/base",
          "model_name": "LayoutModel",
          "state": {
            "_view_name": "LayoutView",
            "grid_template_rows": null,
            "right": null,
            "justify_content": null,
            "_view_module": "@jupyter-widgets/base",
            "overflow": null,
            "_model_module_version": "1.2.0",
            "_view_count": null,
            "flex_flow": null,
            "width": null,
            "min_width": null,
            "border": null,
            "align_items": null,
            "bottom": null,
            "_model_module": "@jupyter-widgets/base",
            "top": null,
            "grid_column": null,
            "overflow_y": null,
            "overflow_x": null,
            "grid_auto_flow": null,
            "grid_area": null,
            "grid_template_columns": null,
            "flex": null,
            "_model_name": "LayoutModel",
            "justify_items": null,
            "grid_row": null,
            "max_height": null,
            "align_content": null,
            "visibility": null,
            "align_self": null,
            "height": null,
            "min_height": null,
            "padding": null,
            "grid_auto_rows": null,
            "grid_gap": null,
            "max_width": null,
            "order": null,
            "_view_module_version": "1.2.0",
            "grid_template_areas": null,
            "object_position": null,
            "object_fit": null,
            "grid_auto_columns": null,
            "margin": null,
            "display": null,
            "left": null
          }
        },
        "f34d0abd76774d968429938ccebafda1": {
          "model_module": "@jupyter-widgets/controls",
          "model_name": "FloatProgressModel",
          "state": {
            "_view_name": "ProgressView",
            "style": "IPY_MODEL_36c0e40edbe6480ea77bf625aca7f32a",
            "_dom_classes": [],
            "description": "",
            "_model_name": "FloatProgressModel",
            "bar_style": "success",
            "max": 1,
            "_view_module": "@jupyter-widgets/controls",
            "_model_module_version": "1.5.0",
            "value": 1,
            "_view_count": null,
            "_view_module_version": "1.5.0",
            "orientation": "horizontal",
            "min": 0,
            "description_tooltip": null,
            "_model_module": "@jupyter-widgets/controls",
            "layout": "IPY_MODEL_028b96e8f0d54ab6824de4c9828b8c56"
          }
        },
        "325d864a4852401392591f799d792987": {
          "model_module": "@jupyter-widgets/controls",
          "model_name": "HTMLModel",
          "state": {
            "_view_name": "HTMLView",
            "style": "IPY_MODEL_b48a75445fec4a06bcf532f22657d40c",
            "_dom_classes": [],
            "description": "",
            "_model_name": "HTMLModel",
            "placeholder": "​",
            "_view_module": "@jupyter-widgets/controls",
            "_model_module_version": "1.5.0",
            "value": " 32768/? [00:03&lt;00:00, 8926.80it/s]",
            "_view_count": null,
            "_view_module_version": "1.5.0",
            "description_tooltip": null,
            "_model_module": "@jupyter-widgets/controls",
            "layout": "IPY_MODEL_15c84fbbd4b74d338f21ccc093a3dc80"
          }
        },
        "36c0e40edbe6480ea77bf625aca7f32a": {
          "model_module": "@jupyter-widgets/controls",
          "model_name": "ProgressStyleModel",
          "state": {
            "_view_name": "StyleView",
            "_model_name": "ProgressStyleModel",
            "description_width": "initial",
            "_view_module": "@jupyter-widgets/base",
            "_model_module_version": "1.5.0",
            "_view_count": null,
            "_view_module_version": "1.2.0",
            "bar_color": null,
            "_model_module": "@jupyter-widgets/controls"
          }
        },
        "028b96e8f0d54ab6824de4c9828b8c56": {
          "model_module": "@jupyter-widgets/base",
          "model_name": "LayoutModel",
          "state": {
            "_view_name": "LayoutView",
            "grid_template_rows": null,
            "right": null,
            "justify_content": null,
            "_view_module": "@jupyter-widgets/base",
            "overflow": null,
            "_model_module_version": "1.2.0",
            "_view_count": null,
            "flex_flow": null,
            "width": null,
            "min_width": null,
            "border": null,
            "align_items": null,
            "bottom": null,
            "_model_module": "@jupyter-widgets/base",
            "top": null,
            "grid_column": null,
            "overflow_y": null,
            "overflow_x": null,
            "grid_auto_flow": null,
            "grid_area": null,
            "grid_template_columns": null,
            "flex": null,
            "_model_name": "LayoutModel",
            "justify_items": null,
            "grid_row": null,
            "max_height": null,
            "align_content": null,
            "visibility": null,
            "align_self": null,
            "height": null,
            "min_height": null,
            "padding": null,
            "grid_auto_rows": null,
            "grid_gap": null,
            "max_width": null,
            "order": null,
            "_view_module_version": "1.2.0",
            "grid_template_areas": null,
            "object_position": null,
            "object_fit": null,
            "grid_auto_columns": null,
            "margin": null,
            "display": null,
            "left": null
          }
        },
        "b48a75445fec4a06bcf532f22657d40c": {
          "model_module": "@jupyter-widgets/controls",
          "model_name": "DescriptionStyleModel",
          "state": {
            "_view_name": "StyleView",
            "_model_name": "DescriptionStyleModel",
            "description_width": "",
            "_view_module": "@jupyter-widgets/base",
            "_model_module_version": "1.5.0",
            "_view_count": null,
            "_view_module_version": "1.2.0",
            "_model_module": "@jupyter-widgets/controls"
          }
        },
        "15c84fbbd4b74d338f21ccc093a3dc80": {
          "model_module": "@jupyter-widgets/base",
          "model_name": "LayoutModel",
          "state": {
            "_view_name": "LayoutView",
            "grid_template_rows": null,
            "right": null,
            "justify_content": null,
            "_view_module": "@jupyter-widgets/base",
            "overflow": null,
            "_model_module_version": "1.2.0",
            "_view_count": null,
            "flex_flow": null,
            "width": null,
            "min_width": null,
            "border": null,
            "align_items": null,
            "bottom": null,
            "_model_module": "@jupyter-widgets/base",
            "top": null,
            "grid_column": null,
            "overflow_y": null,
            "overflow_x": null,
            "grid_auto_flow": null,
            "grid_area": null,
            "grid_template_columns": null,
            "flex": null,
            "_model_name": "LayoutModel",
            "justify_items": null,
            "grid_row": null,
            "max_height": null,
            "align_content": null,
            "visibility": null,
            "align_self": null,
            "height": null,
            "min_height": null,
            "padding": null,
            "grid_auto_rows": null,
            "grid_gap": null,
            "max_width": null,
            "order": null,
            "_view_module_version": "1.2.0",
            "grid_template_areas": null,
            "object_position": null,
            "object_fit": null,
            "grid_auto_columns": null,
            "margin": null,
            "display": null,
            "left": null
          }
        },
        "6128c80e89df43e9bd1cf3ac647600d7": {
          "model_module": "@jupyter-widgets/controls",
          "model_name": "HBoxModel",
          "state": {
            "_view_name": "HBoxView",
            "_dom_classes": [],
            "_model_name": "HBoxModel",
            "_view_module": "@jupyter-widgets/controls",
            "_model_module_version": "1.5.0",
            "_view_count": null,
            "_view_module_version": "1.5.0",
            "box_style": "",
            "layout": "IPY_MODEL_b11d6c84793f471290a04e779aa18bc9",
            "_model_module": "@jupyter-widgets/controls",
            "children": [
              "IPY_MODEL_e0fd03dd2ca04589b0cc3ed4760aa57a",
              "IPY_MODEL_cfa2d8cefbdf4ef28c7093035b45070c"
            ]
          }
        },
        "b11d6c84793f471290a04e779aa18bc9": {
          "model_module": "@jupyter-widgets/base",
          "model_name": "LayoutModel",
          "state": {
            "_view_name": "LayoutView",
            "grid_template_rows": null,
            "right": null,
            "justify_content": null,
            "_view_module": "@jupyter-widgets/base",
            "overflow": null,
            "_model_module_version": "1.2.0",
            "_view_count": null,
            "flex_flow": null,
            "width": null,
            "min_width": null,
            "border": null,
            "align_items": null,
            "bottom": null,
            "_model_module": "@jupyter-widgets/base",
            "top": null,
            "grid_column": null,
            "overflow_y": null,
            "overflow_x": null,
            "grid_auto_flow": null,
            "grid_area": null,
            "grid_template_columns": null,
            "flex": null,
            "_model_name": "LayoutModel",
            "justify_items": null,
            "grid_row": null,
            "max_height": null,
            "align_content": null,
            "visibility": null,
            "align_self": null,
            "height": null,
            "min_height": null,
            "padding": null,
            "grid_auto_rows": null,
            "grid_gap": null,
            "max_width": null,
            "order": null,
            "_view_module_version": "1.2.0",
            "grid_template_areas": null,
            "object_position": null,
            "object_fit": null,
            "grid_auto_columns": null,
            "margin": null,
            "display": null,
            "left": null
          }
        },
        "e0fd03dd2ca04589b0cc3ed4760aa57a": {
          "model_module": "@jupyter-widgets/controls",
          "model_name": "FloatProgressModel",
          "state": {
            "_view_name": "ProgressView",
            "style": "IPY_MODEL_c402f03645024584a45937fcbb305bbf",
            "_dom_classes": [],
            "description": "",
            "_model_name": "FloatProgressModel",
            "bar_style": "success",
            "max": 1,
            "_view_module": "@jupyter-widgets/controls",
            "_model_module_version": "1.5.0",
            "value": 1,
            "_view_count": null,
            "_view_module_version": "1.5.0",
            "orientation": "horizontal",
            "min": 0,
            "description_tooltip": null,
            "_model_module": "@jupyter-widgets/controls",
            "layout": "IPY_MODEL_83afbb2ea682422087808729ac995300"
          }
        },
        "cfa2d8cefbdf4ef28c7093035b45070c": {
          "model_module": "@jupyter-widgets/controls",
          "model_name": "HTMLModel",
          "state": {
            "_view_name": "HTMLView",
            "style": "IPY_MODEL_d6e86e6ba13a451c9750177a66f1cdef",
            "_dom_classes": [],
            "description": "",
            "_model_name": "HTMLModel",
            "placeholder": "​",
            "_view_module": "@jupyter-widgets/controls",
            "_model_module_version": "1.5.0",
            "value": " 4423680/? [00:02&lt;00:00, 1593128.70it/s]",
            "_view_count": null,
            "_view_module_version": "1.5.0",
            "description_tooltip": null,
            "_model_module": "@jupyter-widgets/controls",
            "layout": "IPY_MODEL_a22bbc5b7569435f9a6323646e48fa32"
          }
        },
        "c402f03645024584a45937fcbb305bbf": {
          "model_module": "@jupyter-widgets/controls",
          "model_name": "ProgressStyleModel",
          "state": {
            "_view_name": "StyleView",
            "_model_name": "ProgressStyleModel",
            "description_width": "initial",
            "_view_module": "@jupyter-widgets/base",
            "_model_module_version": "1.5.0",
            "_view_count": null,
            "_view_module_version": "1.2.0",
            "bar_color": null,
            "_model_module": "@jupyter-widgets/controls"
          }
        },
        "83afbb2ea682422087808729ac995300": {
          "model_module": "@jupyter-widgets/base",
          "model_name": "LayoutModel",
          "state": {
            "_view_name": "LayoutView",
            "grid_template_rows": null,
            "right": null,
            "justify_content": null,
            "_view_module": "@jupyter-widgets/base",
            "overflow": null,
            "_model_module_version": "1.2.0",
            "_view_count": null,
            "flex_flow": null,
            "width": null,
            "min_width": null,
            "border": null,
            "align_items": null,
            "bottom": null,
            "_model_module": "@jupyter-widgets/base",
            "top": null,
            "grid_column": null,
            "overflow_y": null,
            "overflow_x": null,
            "grid_auto_flow": null,
            "grid_area": null,
            "grid_template_columns": null,
            "flex": null,
            "_model_name": "LayoutModel",
            "justify_items": null,
            "grid_row": null,
            "max_height": null,
            "align_content": null,
            "visibility": null,
            "align_self": null,
            "height": null,
            "min_height": null,
            "padding": null,
            "grid_auto_rows": null,
            "grid_gap": null,
            "max_width": null,
            "order": null,
            "_view_module_version": "1.2.0",
            "grid_template_areas": null,
            "object_position": null,
            "object_fit": null,
            "grid_auto_columns": null,
            "margin": null,
            "display": null,
            "left": null
          }
        },
        "d6e86e6ba13a451c9750177a66f1cdef": {
          "model_module": "@jupyter-widgets/controls",
          "model_name": "DescriptionStyleModel",
          "state": {
            "_view_name": "StyleView",
            "_model_name": "DescriptionStyleModel",
            "description_width": "",
            "_view_module": "@jupyter-widgets/base",
            "_model_module_version": "1.5.0",
            "_view_count": null,
            "_view_module_version": "1.2.0",
            "_model_module": "@jupyter-widgets/controls"
          }
        },
        "a22bbc5b7569435f9a6323646e48fa32": {
          "model_module": "@jupyter-widgets/base",
          "model_name": "LayoutModel",
          "state": {
            "_view_name": "LayoutView",
            "grid_template_rows": null,
            "right": null,
            "justify_content": null,
            "_view_module": "@jupyter-widgets/base",
            "overflow": null,
            "_model_module_version": "1.2.0",
            "_view_count": null,
            "flex_flow": null,
            "width": null,
            "min_width": null,
            "border": null,
            "align_items": null,
            "bottom": null,
            "_model_module": "@jupyter-widgets/base",
            "top": null,
            "grid_column": null,
            "overflow_y": null,
            "overflow_x": null,
            "grid_auto_flow": null,
            "grid_area": null,
            "grid_template_columns": null,
            "flex": null,
            "_model_name": "LayoutModel",
            "justify_items": null,
            "grid_row": null,
            "max_height": null,
            "align_content": null,
            "visibility": null,
            "align_self": null,
            "height": null,
            "min_height": null,
            "padding": null,
            "grid_auto_rows": null,
            "grid_gap": null,
            "max_width": null,
            "order": null,
            "_view_module_version": "1.2.0",
            "grid_template_areas": null,
            "object_position": null,
            "object_fit": null,
            "grid_auto_columns": null,
            "margin": null,
            "display": null,
            "left": null
          }
        },
        "de431d2014c64c36a08f6ba1121ee856": {
          "model_module": "@jupyter-widgets/controls",
          "model_name": "HBoxModel",
          "state": {
            "_view_name": "HBoxView",
            "_dom_classes": [],
            "_model_name": "HBoxModel",
            "_view_module": "@jupyter-widgets/controls",
            "_model_module_version": "1.5.0",
            "_view_count": null,
            "_view_module_version": "1.5.0",
            "box_style": "",
            "layout": "IPY_MODEL_8bf99ea8b09f48a9aa86b5311f18fbb3",
            "_model_module": "@jupyter-widgets/controls",
            "children": [
              "IPY_MODEL_f932af1302a1448abf0117968bd01469",
              "IPY_MODEL_d642cc62a66b42e9b0e546f04e4569ac"
            ]
          }
        },
        "8bf99ea8b09f48a9aa86b5311f18fbb3": {
          "model_module": "@jupyter-widgets/base",
          "model_name": "LayoutModel",
          "state": {
            "_view_name": "LayoutView",
            "grid_template_rows": null,
            "right": null,
            "justify_content": null,
            "_view_module": "@jupyter-widgets/base",
            "overflow": null,
            "_model_module_version": "1.2.0",
            "_view_count": null,
            "flex_flow": null,
            "width": null,
            "min_width": null,
            "border": null,
            "align_items": null,
            "bottom": null,
            "_model_module": "@jupyter-widgets/base",
            "top": null,
            "grid_column": null,
            "overflow_y": null,
            "overflow_x": null,
            "grid_auto_flow": null,
            "grid_area": null,
            "grid_template_columns": null,
            "flex": null,
            "_model_name": "LayoutModel",
            "justify_items": null,
            "grid_row": null,
            "max_height": null,
            "align_content": null,
            "visibility": null,
            "align_self": null,
            "height": null,
            "min_height": null,
            "padding": null,
            "grid_auto_rows": null,
            "grid_gap": null,
            "max_width": null,
            "order": null,
            "_view_module_version": "1.2.0",
            "grid_template_areas": null,
            "object_position": null,
            "object_fit": null,
            "grid_auto_columns": null,
            "margin": null,
            "display": null,
            "left": null
          }
        },
        "f932af1302a1448abf0117968bd01469": {
          "model_module": "@jupyter-widgets/controls",
          "model_name": "FloatProgressModel",
          "state": {
            "_view_name": "ProgressView",
            "style": "IPY_MODEL_bf171ce811dc4306b3981eff1879860c",
            "_dom_classes": [],
            "description": "  0%",
            "_model_name": "FloatProgressModel",
            "bar_style": "info",
            "max": 1,
            "_view_module": "@jupyter-widgets/controls",
            "_model_module_version": "1.5.0",
            "value": 0,
            "_view_count": null,
            "_view_module_version": "1.5.0",
            "orientation": "horizontal",
            "min": 0,
            "description_tooltip": null,
            "_model_module": "@jupyter-widgets/controls",
            "layout": "IPY_MODEL_80db56f8969d4869bb3ed56c8d29992f"
          }
        },
        "d642cc62a66b42e9b0e546f04e4569ac": {
          "model_module": "@jupyter-widgets/controls",
          "model_name": "HTMLModel",
          "state": {
            "_view_name": "HTMLView",
            "style": "IPY_MODEL_201513098bd846ef87b4fc3f2bb2d4c4",
            "_dom_classes": [],
            "description": "",
            "_model_name": "HTMLModel",
            "placeholder": "​",
            "_view_module": "@jupyter-widgets/controls",
            "_model_module_version": "1.5.0",
            "value": " 0/5148 [00:00&lt;?, ?it/s]",
            "_view_count": null,
            "_view_module_version": "1.5.0",
            "description_tooltip": null,
            "_model_module": "@jupyter-widgets/controls",
            "layout": "IPY_MODEL_288fbb6aec7a4289b3ad90f2782a9272"
          }
        },
        "bf171ce811dc4306b3981eff1879860c": {
          "model_module": "@jupyter-widgets/controls",
          "model_name": "ProgressStyleModel",
          "state": {
            "_view_name": "StyleView",
            "_model_name": "ProgressStyleModel",
            "description_width": "initial",
            "_view_module": "@jupyter-widgets/base",
            "_model_module_version": "1.5.0",
            "_view_count": null,
            "_view_module_version": "1.2.0",
            "bar_color": null,
            "_model_module": "@jupyter-widgets/controls"
          }
        },
        "80db56f8969d4869bb3ed56c8d29992f": {
          "model_module": "@jupyter-widgets/base",
          "model_name": "LayoutModel",
          "state": {
            "_view_name": "LayoutView",
            "grid_template_rows": null,
            "right": null,
            "justify_content": null,
            "_view_module": "@jupyter-widgets/base",
            "overflow": null,
            "_model_module_version": "1.2.0",
            "_view_count": null,
            "flex_flow": null,
            "width": null,
            "min_width": null,
            "border": null,
            "align_items": null,
            "bottom": null,
            "_model_module": "@jupyter-widgets/base",
            "top": null,
            "grid_column": null,
            "overflow_y": null,
            "overflow_x": null,
            "grid_auto_flow": null,
            "grid_area": null,
            "grid_template_columns": null,
            "flex": null,
            "_model_name": "LayoutModel",
            "justify_items": null,
            "grid_row": null,
            "max_height": null,
            "align_content": null,
            "visibility": null,
            "align_self": null,
            "height": null,
            "min_height": null,
            "padding": null,
            "grid_auto_rows": null,
            "grid_gap": null,
            "max_width": null,
            "order": null,
            "_view_module_version": "1.2.0",
            "grid_template_areas": null,
            "object_position": null,
            "object_fit": null,
            "grid_auto_columns": null,
            "margin": null,
            "display": null,
            "left": null
          }
        },
        "201513098bd846ef87b4fc3f2bb2d4c4": {
          "model_module": "@jupyter-widgets/controls",
          "model_name": "DescriptionStyleModel",
          "state": {
            "_view_name": "StyleView",
            "_model_name": "DescriptionStyleModel",
            "description_width": "",
            "_view_module": "@jupyter-widgets/base",
            "_model_module_version": "1.5.0",
            "_view_count": null,
            "_view_module_version": "1.2.0",
            "_model_module": "@jupyter-widgets/controls"
          }
        },
        "288fbb6aec7a4289b3ad90f2782a9272": {
          "model_module": "@jupyter-widgets/base",
          "model_name": "LayoutModel",
          "state": {
            "_view_name": "LayoutView",
            "grid_template_rows": null,
            "right": null,
            "justify_content": null,
            "_view_module": "@jupyter-widgets/base",
            "overflow": null,
            "_model_module_version": "1.2.0",
            "_view_count": null,
            "flex_flow": null,
            "width": null,
            "min_width": null,
            "border": null,
            "align_items": null,
            "bottom": null,
            "_model_module": "@jupyter-widgets/base",
            "top": null,
            "grid_column": null,
            "overflow_y": null,
            "overflow_x": null,
            "grid_auto_flow": null,
            "grid_area": null,
            "grid_template_columns": null,
            "flex": null,
            "_model_name": "LayoutModel",
            "justify_items": null,
            "grid_row": null,
            "max_height": null,
            "align_content": null,
            "visibility": null,
            "align_self": null,
            "height": null,
            "min_height": null,
            "padding": null,
            "grid_auto_rows": null,
            "grid_gap": null,
            "max_width": null,
            "order": null,
            "_view_module_version": "1.2.0",
            "grid_template_areas": null,
            "object_position": null,
            "object_fit": null,
            "grid_auto_columns": null,
            "margin": null,
            "display": null,
            "left": null
          }
        }
      }
    }
  },
  "cells": [
    {
      "cell_type": "markdown",
      "metadata": {
        "id": "7tZGdr4IYn5C"
      },
      "source": [
        "### Energy-based models assignment; implementation problem\n",
        "\n",
        "This is a (hopefully shorter, compared to hw2) implementation problem of the third assignment. We will investigate convolutional auto-encoders and denoising convolutional auto-encoders."
      ]
    },
    {
      "cell_type": "markdown",
      "metadata": {
        "id": "cgUHD__A3QPq"
      },
      "source": [
        "### Prereqs"
      ]
    },
    {
      "cell_type": "code",
      "metadata": {
        "id": "_Rp4yK7ej25V",
        "outputId": "cc49bcca-277b-429a-fe36-2a0de1fa46c5",
        "colab": {
          "base_uri": "https://localhost:8080/",
          "height": 34
        }
      },
      "source": [
        "from google.colab import drive\n",
        "drive.mount('/content/drive')"
      ],
      "execution_count": 1,
      "outputs": [
        {
          "output_type": "stream",
          "text": [
            "Mounted at /content/drive\n"
          ],
          "name": "stdout"
        }
      ]
    },
    {
      "cell_type": "markdown",
      "metadata": {
        "id": "AU-JX4uYLQD1"
      },
      "source": [
        "\n",
        "\n",
        "**Question 1 (of this notebook):**\n",
        "\n",
        "Estimated time: 10 min.\n",
        "\n",
        "We first load the data.\n",
        "\n",
        "TODO:\n",
        "- Print out a few shapes. See comments in the below cell. Can be done in three lines of code, but you're welcome to provide a more complicated solution."
      ]
    },
    {
      "cell_type": "code",
      "metadata": {
        "id": "CBmCO4ZFTwje"
      },
      "source": [
        "import datetime\n",
        "import logging\n",
        "import matplotlib.pyplot as plt\n",
        "import numpy as np\n",
        "import os\n",
        "import time\n",
        "import sys\n",
        "\n",
        "import torch\n",
        "import torch.nn as nn\n",
        "from torch.optim import lr_scheduler\n",
        "import torch.optim as optim\n",
        "from torch.utils import data\n",
        "import torchvision\n",
        "from torchvision import datasets\n",
        "import torchvision.transforms as transforms\n",
        "\n",
        "\n",
        "def load_fashion_mnist(batch_size=64):\n",
        "    # One convention (of the many) is to use a real number between -1 and 1\n",
        "    # (inclusive) to represent each pixel; instead of an integer from 0 to 255.\n",
        "    transform = transforms.Compose(\n",
        "        [transforms.ToTensor(), transforms.Normalize([0.5], [0.5])])\n",
        "\n",
        "    train_dataset = datasets.FashionMNIST(root='./data', train=True,\n",
        "                                          download=True, transform=transform)\n",
        "\n",
        "    # Create validation set from training set, given that torchvision only gives\n",
        "    # us the train/test split.  \n",
        "    num_train = len(train_dataset)\n",
        "    indices = list(range(num_train))\n",
        "    valid_size = 0.1\n",
        "    split = int(np.floor(valid_size * num_train))\n",
        "\n",
        "    random_seed = 123\n",
        "    np.random.seed(random_seed)  # think: why do we do this?\n",
        "    np.random.shuffle(indices)\n",
        "\n",
        "    train_idx, valid_idx = indices[split:], indices[:split]\n",
        "    train_sampler = data.SubsetRandomSampler(train_idx)\n",
        "    valid_sampler = data.SubsetRandomSampler(valid_idx)\n",
        "    train_loader = data.DataLoader(\n",
        "        train_dataset, batch_size=batch_size, sampler=train_sampler)\n",
        "    valid_loader = data.DataLoader(\n",
        "        train_dataset, batch_size=batch_size, sampler=valid_sampler)\n",
        "    test_dataset = datasets.FashionMNIST(root='./data', train=False,\n",
        "                                         download=True, transform=transform)\n",
        "    test_loader = data.DataLoader(test_dataset, batch_size=batch_size,\n",
        "                                  shuffle=False)\n",
        "    \n",
        "    # TODO: the images in training, validation, and test sets have shape:\n",
        "    # [num of examples, image height, image weight];\n",
        "    # write a few lines of code to print out the three (train/val/test) shapes;\n",
        "    # for example, the test set image shape should be [10000, 28, 28];\n",
        "    # try exploring the dataset using test_dataset[7], test_dataset.data, etc.\n",
        "    raise NotImplementedError\n",
        "\n",
        "    return train_loader, valid_loader, test_loader\n",
        "\n",
        "def imshow(img):\n",
        "    # First unnormalize if we want to print out the image. We're using the\n",
        "    # convention that each image pixel is between -1 and 1. But when python\n",
        "    # prints out images, the pixel needs to be between 0 and 1.\n",
        "    img = img / 2 + 0.5\n",
        "    img_numpy = img.numpy()\n",
        "    plt.figure(figsize=(12, 12))\n",
        "    plt.imshow(np.transpose(img_numpy, (1, 2, 0)))"
      ],
      "execution_count": null,
      "outputs": []
    },
    {
      "cell_type": "code",
      "metadata": {
        "id": "BHDmsfatbnN4",
        "outputId": "939b2bf0-dd64-4dd5-fc8e-6d4fbcb9d2b2",
        "colab": {
          "base_uri": "https://localhost:8080/",
          "height": 454,
          "referenced_widgets": [
            "346ff0a667464b3db69a8db14665f436",
            "9dd480d44a5f4e149b2e7293b5878047",
            "d325e5b1a9db4d0888915f93bbc36783",
            "091c2ce6620b4a498ed559862bd9e4df",
            "7480d90410db47959bca811f667f5f13",
            "1d09b50661e8422d984cd9f1b99196bd",
            "14e72ff5b31d4f629fcecfca3f7a00af",
            "a255f5ace8f2417f9d017096e437536a",
            "aa6acd501b944cce8924b28875ae8933",
            "f0a349e786784a9fa83b4f2ef0ab5a0d",
            "f34d0abd76774d968429938ccebafda1",
            "325d864a4852401392591f799d792987",
            "36c0e40edbe6480ea77bf625aca7f32a",
            "028b96e8f0d54ab6824de4c9828b8c56",
            "b48a75445fec4a06bcf532f22657d40c",
            "15c84fbbd4b74d338f21ccc093a3dc80",
            "6128c80e89df43e9bd1cf3ac647600d7",
            "b11d6c84793f471290a04e779aa18bc9",
            "e0fd03dd2ca04589b0cc3ed4760aa57a",
            "cfa2d8cefbdf4ef28c7093035b45070c",
            "c402f03645024584a45937fcbb305bbf",
            "83afbb2ea682422087808729ac995300",
            "d6e86e6ba13a451c9750177a66f1cdef",
            "a22bbc5b7569435f9a6323646e48fa32",
            "de431d2014c64c36a08f6ba1121ee856",
            "8bf99ea8b09f48a9aa86b5311f18fbb3",
            "f932af1302a1448abf0117968bd01469",
            "d642cc62a66b42e9b0e546f04e4569ac",
            "bf171ce811dc4306b3981eff1879860c",
            "80db56f8969d4869bb3ed56c8d29992f",
            "201513098bd846ef87b4fc3f2bb2d4c4",
            "288fbb6aec7a4289b3ad90f2782a9272"
          ]
        }
      },
      "source": [
        "batch_size = 64\n",
        "train_loader, valid_loader, test_loader = load_fashion_mnist(batch_size)"
      ],
      "execution_count": null,
      "outputs": [
        {
          "output_type": "stream",
          "text": [
            "Downloading http://fashion-mnist.s3-website.eu-central-1.amazonaws.com/train-images-idx3-ubyte.gz to ./data/FashionMNIST/raw/train-images-idx3-ubyte.gz\n"
          ],
          "name": "stdout"
        },
        {
          "output_type": "display_data",
          "data": {
            "application/vnd.jupyter.widget-view+json": {
              "model_id": "346ff0a667464b3db69a8db14665f436",
              "version_minor": 0,
              "version_major": 2
            },
            "text/plain": [
              "HBox(children=(FloatProgress(value=1.0, bar_style='info', max=1.0), HTML(value='')))"
            ]
          },
          "metadata": {
            "tags": []
          }
        },
        {
          "output_type": "stream",
          "text": [
            "Extracting ./data/FashionMNIST/raw/train-images-idx3-ubyte.gz to ./data/FashionMNIST/raw\n",
            "Downloading http://fashion-mnist.s3-website.eu-central-1.amazonaws.com/train-labels-idx1-ubyte.gz to ./data/FashionMNIST/raw/train-labels-idx1-ubyte.gz\n"
          ],
          "name": "stdout"
        },
        {
          "output_type": "display_data",
          "data": {
            "application/vnd.jupyter.widget-view+json": {
              "model_id": "aa6acd501b944cce8924b28875ae8933",
              "version_minor": 0,
              "version_major": 2
            },
            "text/plain": [
              "HBox(children=(FloatProgress(value=1.0, bar_style='info', max=1.0), HTML(value='')))"
            ]
          },
          "metadata": {
            "tags": []
          }
        },
        {
          "output_type": "stream",
          "text": [
            "Extracting ./data/FashionMNIST/raw/train-labels-idx1-ubyte.gz to ./data/FashionMNIST/raw\n",
            "Downloading http://fashion-mnist.s3-website.eu-central-1.amazonaws.com/t10k-images-idx3-ubyte.gz to ./data/FashionMNIST/raw/t10k-images-idx3-ubyte.gz\n"
          ],
          "name": "stdout"
        },
        {
          "output_type": "display_data",
          "data": {
            "application/vnd.jupyter.widget-view+json": {
              "model_id": "6128c80e89df43e9bd1cf3ac647600d7",
              "version_minor": 0,
              "version_major": 2
            },
            "text/plain": [
              "HBox(children=(FloatProgress(value=1.0, bar_style='info', max=1.0), HTML(value='')))"
            ]
          },
          "metadata": {
            "tags": []
          }
        },
        {
          "output_type": "stream",
          "text": [
            "Extracting ./data/FashionMNIST/raw/t10k-images-idx3-ubyte.gz to ./data/FashionMNIST/raw\n",
            "Downloading http://fashion-mnist.s3-website.eu-central-1.amazonaws.com/t10k-labels-idx1-ubyte.gz to ./data/FashionMNIST/raw/t10k-labels-idx1-ubyte.gz\n",
            "\n",
            "\n"
          ],
          "name": "stdout"
        },
        {
          "output_type": "display_data",
          "data": {
            "application/vnd.jupyter.widget-view+json": {
              "model_id": "de431d2014c64c36a08f6ba1121ee856",
              "version_minor": 0,
              "version_major": 2
            },
            "text/plain": [
              "HBox(children=(FloatProgress(value=1.0, bar_style='info', max=1.0), HTML(value='')))"
            ]
          },
          "metadata": {
            "tags": []
          }
        },
        {
          "output_type": "stream",
          "text": [
            "Extracting ./data/FashionMNIST/raw/t10k-labels-idx1-ubyte.gz to ./data/FashionMNIST/raw\n",
            "Processing...\n",
            "Done!\n"
          ],
          "name": "stdout"
        },
        {
          "output_type": "stream",
          "text": [
            "/usr/local/lib/python3.6/dist-packages/torchvision/datasets/mnist.py:469: UserWarning: The given NumPy array is not writeable, and PyTorch does not support non-writeable tensors. This means you can write to the underlying (supposedly non-writeable) NumPy array using the tensor. You may want to copy the array to protect its data or make it writeable before converting it to a tensor. This type of warning will be suppressed for the rest of this program. (Triggered internally at  /pytorch/torch/csrc/utils/tensor_numpy.cpp:141.)\n",
            "  return torch.from_numpy(parsed.astype(m[2], copy=False)).view(*s)\n"
          ],
          "name": "stderr"
        },
        {
          "output_type": "stream",
          "text": [
            "torch.Size([54000, 28, 28])\n",
            "torch.Size([6000, 28, 28])\n",
            "torch.Size([10000, 28, 28])\n"
          ],
          "name": "stdout"
        }
      ]
    },
    {
      "cell_type": "code",
      "metadata": {
        "id": "jkS_y2KXjrDC",
        "outputId": "2ef6e55b-48fb-4c4d-8988-a6e4b6dd5996",
        "colab": {
          "base_uri": "https://localhost:8080/",
          "height": 357
        }
      },
      "source": [
        "!nvidia-smi  # make sure you're using GPUs when you are about to train the model"
      ],
      "execution_count": null,
      "outputs": [
        {
          "output_type": "stream",
          "text": [
            "Sat Oct 17 21:57:15 2020       \n",
            "+-----------------------------------------------------------------------------+\n",
            "| NVIDIA-SMI 455.23.05    Driver Version: 418.67       CUDA Version: 10.1     |\n",
            "|-------------------------------+----------------------+----------------------+\n",
            "| GPU  Name        Persistence-M| Bus-Id        Disp.A | Volatile Uncorr. ECC |\n",
            "| Fan  Temp  Perf  Pwr:Usage/Cap|         Memory-Usage | GPU-Util  Compute M. |\n",
            "|                               |                      |               MIG M. |\n",
            "|===============================+======================+======================|\n",
            "|   0  Tesla V100-SXM2...  Off  | 00000000:00:04.0 Off |                    0 |\n",
            "| N/A   35C    P0    25W / 300W |      0MiB / 16130MiB |      0%      Default |\n",
            "|                               |                      |                 ERR! |\n",
            "+-------------------------------+----------------------+----------------------+\n",
            "                                                                               \n",
            "+-----------------------------------------------------------------------------+\n",
            "| Processes:                                                                  |\n",
            "|  GPU   GI   CI        PID   Type   Process name                  GPU Memory |\n",
            "|        ID   ID                                                   Usage      |\n",
            "|=============================================================================|\n",
            "|  No running processes found                                                 |\n",
            "+-----------------------------------------------------------------------------+\n"
          ],
          "name": "stdout"
        }
      ]
    },
    {
      "cell_type": "code",
      "metadata": {
        "id": "mrObBMsKeAky",
        "outputId": "29c17ce5-9669-4bd8-f5da-31d2396e7756",
        "colab": {
          "base_uri": "https://localhost:8080/",
          "height": 221
        }
      },
      "source": [
        "# Taking a look at what the images are like\n",
        "images = next(iter(test_loader))[0][:64]\n",
        "imshow(torchvision.utils.make_grid(images, nrow=16))"
      ],
      "execution_count": null,
      "outputs": [
        {
          "output_type": "display_data",
          "data": {
            "image/png": "[encoded data removed]",
            "text/plain": [
              "<Figure size 864x864 with 1 Axes>"
            ]
          },
          "metadata": {
            "tags": [],
            "needs_background": "light"
          }
        }
      ]
    },
    {
      "cell_type": "code",
      "metadata": {
        "id": "CERNC6Fpxdxw",
        "outputId": "efc588cb-f7cc-4ed4-fab6-3122bd49d165",
        "colab": {
          "base_uri": "https://localhost:8080/",
          "height": 34
        }
      },
      "source": [
        "images.shape"
      ],
      "execution_count": null,
      "outputs": [
        {
          "output_type": "execute_result",
          "data": {
            "text/plain": [
              "torch.Size([64, 1, 28, 28])"
            ]
          },
          "metadata": {
            "tags": []
          },
          "execution_count": 7
        }
      ]
    },
    {
      "cell_type": "markdown",
      "metadata": {
        "id": "tzLPLqlefW_W"
      },
      "source": [
        "Check out the ten classes on page 3: https://arxiv.org/pdf/1708.07747.pdf\n",
        "- 0: t-shirt/top; 1: trouser; 2: pullover; 3: dress; 4: coat; 5: sandals; 6: shirt; 7: sneaker; 8: bag; 9: ankle boots.\n",
        "\n",
        "<!-- For CIFAR10, check out the ten classes here: https://www.cs.toronto.edu/~kriz/cifar.html\n",
        "- Airplane, automobile, bird, cat, deer, dog, frog, horse, ship, truck -->\n",
        "\n",
        "This dataset is much more difficult on the classification task, compared to the digit MNIST which we saw in Lab 2. However, **today we will NOT be doing classification!!! So let's assume that the labels DO NOT EXIST in the iterators (the data loaders)!**"
      ]
    },
    {
      "cell_type": "markdown",
      "metadata": {
        "id": "Wce8MZKWM2Ex"
      },
      "source": [
        "### Model"
      ]
    },
    {
      "cell_type": "markdown",
      "metadata": {
        "id": "cBdRxZxg8ZHz"
      },
      "source": [
        "Next, we will implement two versions of autoencoders: (1) convolutional autoencoder; (2) denoising convolutional autoencoder (but actually we'll be using the same model code, explained later)."
      ]
    },
    {
      "cell_type": "markdown",
      "metadata": {
        "id": "yNICskWSL-Dg"
      },
      "source": [
        "**Question 2: implement a convolutional autoencoder**\n",
        "\n",
        "Estimated time: 30 min.\n",
        "\n",
        "TODO\n",
        "- In CAE class below, complete the init function and the forward function, such that your implementation satisfies the following requirements.\n",
        "  - The output image dimension (from the forward function) is exactly the same as the input image dimension. \n",
        "  - There are two Conv2d layer in the encoder, followed by three Conv2d or ConvTranspose2d blocks in the decoder. The out_channel for the second convolutional layer in the encoder should be >= 16 (for example, 16 or 32; feel free to experiment other choices).\n",
        "    - Use ReLU or some other similar nonlinearities, followed by pooling, after each convolution layer in the encoder. \n",
        "    - Use ReLU or some other similar nonlinearities, after each convolution layer in the decoder (except for the very last convolution layer). Suggestion (but no need to follow this advice): the out_channel size for the decoder convolutional layers should be smaller and smaller (meaning the out_channel for first decoding conv2d layer should be bigger than out_channel for second decoding conv2d layer).\n",
        "    - Add batch normalization layers after the nonlinearities, just like what you may have done in the previous homework. \n",
        "    - In decoder, if you want to obtain an output feature map with size larger than size of input feature map, consider using ConvTranspose2d, or UpsamplingBilinear2d, after figuring out what they do.\n",
        "    - No hard requirement on what padding or stride to use, but make sure they're small, given that our image is only 28*28. \n",
        "  - Note that your parameters (e.g., number of filters in the intermediate layers) should not be too big, given that our image is greyscale and has 28*28 pixels only.\n",
        "\n"
      ]
    },
    {
      "cell_type": "code",
      "metadata": {
        "id": "d4bCtswwzVQx"
      },
      "source": [
        "cuda = torch.cuda.is_available()\n",
        "device = torch.device('cuda' if cuda else 'cpu')"
      ],
      "execution_count": null,
      "outputs": []
    },
    {
      "cell_type": "code",
      "metadata": {
        "id": "aUWYrLtxbnC_"
      },
      "source": [
        "class CAE(nn.Module):\n",
        "    def __init__(self):\n",
        "        super(CAE, self).__init__()\n",
        "        raise NotImplementedError\n",
        "\n",
        "    def forward(self, y):\n",
        "        \"\"\"Forward function of CAE class.\n",
        "\n",
        "        Args:\n",
        "          y: a batch of input images.\n",
        "        \n",
        "        Returns:\n",
        "          yhat: the batch of reconstructed images.\n",
        "        \"\"\"\n",
        "        raise NotImplementedError\n"
      ],
      "execution_count": null,
      "outputs": []
    },
    {
      "cell_type": "markdown",
      "metadata": {
        "id": "lzTZDpifTRBW"
      },
      "source": [
        "**Question 3: complete the train() and validate() function to be used later**\n",
        "\n",
        "Estimated time: 10 min.\n",
        "\n",
        "TODO\n",
        "- Complete the train() function.\n",
        "  - Hint: recall the five steps we discussed in Lab 2.\n",
        "  - Make sure your images are on GPUs (device cuda) before you train. Otherwise, your training may be extremely extremely slow and it may take you 50 times longer than other people.\n",
        "\n",
        "- Complete the validate() function:\n",
        "  - The only thing we need to do is to save the model when we achieve the best validation loss so far. So, check out the pytorch documentation or the third lab, for how to save checkpoints. Make sure to do this step because we need to load the model later."
      ]
    },
    {
      "cell_type": "code",
      "metadata": {
        "id": "PQuocNYqu4P8"
      },
      "source": [
        "# This is part of question 4.\n",
        "def add_noise(images):\n",
        "    raise NotImplementedError\n",
        "    return images_noisy"
      ],
      "execution_count": null,
      "outputs": []
    },
    {
      "cell_type": "code",
      "metadata": {
        "id": "EXWnvdISEpOh",
        "outputId": "afcfce0b-74ec-4745-cca1-8c5e4a4bf50a",
        "colab": {
          "base_uri": "https://localhost:8080/",
          "height": 34
        }
      },
      "source": [
        "torch.rand(images.shape[0]).view(-1, 1, 1, 1).shape"
      ],
      "execution_count": null,
      "outputs": [
        {
          "output_type": "execute_result",
          "data": {
            "text/plain": [
              "torch.Size([64, 1, 1, 1])"
            ]
          },
          "metadata": {
            "tags": []
          },
          "execution_count": 16
        }
      ]
    },
    {
      "cell_type": "code",
      "metadata": {
        "id": "mWn2f7bbENgi"
      },
      "source": [
        ""
      ],
      "execution_count": null,
      "outputs": []
    },
    {
      "cell_type": "code",
      "metadata": {
        "id": "HHxz36goTRb9"
      },
      "source": [
        "def train(autoencoder, train_loader, epoch, num_epoch, learning_rate,\n",
        "          weight_decay, log_interval, denoising=False):\n",
        "    # Using sum reduction simply bc otherwise, the scale of the loss is too small;\n",
        "    # given that we always have 28*28 images, using sum/mean reduction wouldn't\n",
        "    # make a difference.\n",
        "    criteria = nn.MSELoss(reduction='sum')\n",
        "    optimizer = torch.optim.Adam(\n",
        "        autoencoder.parameters(), lr=learning_rate)\n",
        "\n",
        "    autoencoder.train()\n",
        "    for i, data in enumerate(train_loader):\n",
        "        raise NotImplementedError\n",
        "        if (i + 1) % log_interval == 0:\n",
        "            print('Epoch [{}/{}] - Iter[{}/{}], MSE loss:{:.6f}'.format(\n",
        "                epoch + 1, num_epoch, i + 1,\n",
        "                len(train_loader.dataset) // batch_size, loss.item() / batch_size\n",
        "            ))\n",
        "\n",
        "\n",
        "def validate(autoencoder, valid_loader, best_val_loss, denoising=False):\n",
        "    total_loss = 0\n",
        "    criteria = nn.MSELoss(reduction='sum')\n",
        "    autoencoder.eval()\n",
        "    for i, data in enumerate(valid_loader):\n",
        "        images, _ = data\n",
        "        if denoising:\n",
        "            input_images = add_noise(images)\n",
        "        else:\n",
        "            input_images = images\n",
        "        if cuda:\n",
        "            input_images = input_images.to(device)\n",
        "            images = images.to(device)\n",
        "        outputs = autoencoder(input_images)\n",
        "        loss = criteria(outputs, images)\n",
        "        total_loss += loss\n",
        "    avg_loss = total_loss / (len(valid_loader) * batch_size)\n",
        "\n",
        "    print('\\nLoss per batch on validation set: {:.6f}'.format(avg_loss))\n",
        "\n",
        "    if avg_loss < best_val_loss:\n",
        "        if denoising:\n",
        "            save_path = '/content/drive/My Drive/xxx\n",
        "        else:\n",
        "            save_path = '/content/drive/My Drive/yyy'\n",
        "        best_val_loss = avg_loss\n",
        "        raise NotImplementedError\n",
        "        print('Saved best model in the checkpoint directory\\n')\n",
        "    \n",
        "    return best_val_loss\n",
        "\n",
        "def evaluate(autoencoder, test_loader, denoising=False):\n",
        "    total_loss = 0\n",
        "    criteria = nn.MSELoss(reduction='sum')\n",
        "    autoencoder.eval()\n",
        "    for i, data in enumerate(test_loader):\n",
        "        images, _ = data\n",
        "        if denoising:\n",
        "            input_images = add_noise(images)\n",
        "        else:\n",
        "            input_images = images\n",
        "        if cuda:\n",
        "            input_images = input_images.to(device)\n",
        "            images = images.to(device)\n",
        "        outputs = autoencoder(input_images)\n",
        "        loss = criteria(outputs, images)\n",
        "        total_loss += loss\n",
        "    avg_loss = total_loss / (len(test_loader) * batch_size)\n",
        "\n",
        "    print('\\nMSE loss per batch on test set: {:.6f}'.format(avg_loss))\n"
      ],
      "execution_count": null,
      "outputs": []
    },
    {
      "cell_type": "markdown",
      "metadata": {
        "id": "sLHpnKZjP3tv"
      },
      "source": [
        "**Question 4: implement a denoising convolutional autoencoder**\n",
        "\n",
        "Estimated time: 20 min.\n",
        "\n",
        "The input to a denoising CAE is a perturbed image, and the output is the original image. Given that we're using the same network, there's nothing we need to change about the CAE class. \n",
        "\n",
        "TODO\n",
        "- However, add an argument called ```denoising``` (defaulted to be ```False```) in the train() to indicate if our input will be the noisy version (in this case ```denoising=True```) or a clean version (in this case ```denoising=False```), and modify the functions appropriately, with the following instructions. Do the same for validate() and evaluate() to decide if we want to validate/evaluate on noisy or clean images.\n",
        "\n",
        "- Perturbation (i.e., making images noisy)\n",
        "  - First make sure that each pixels are represented by a real number from -1 to 1 (instead of integers from 0 to 255). The pixel should be already from -1 to 1, unless you did something you shouldn't have done. \n",
        "  - Next, do a perturbation to each image where the noise is sampled according to the standard Gaussian distribution and then multiplied by a number uniformly sampled from 0 to 1.\n",
        "    - In other words, each pixel in image i should be perturbed with a noise (1) sampled from a standard Gaussian distribution and then (2) multiplied by $c_i$ for some $c_i \\in (0,1)$, and each pixel in image j should be perturbed with a noise (1) sampled from a standard Gaussian distribution and then (2) multiplied by $c_j$ for some $c_j \\in (0,1)$. (In fact, the result is that for each image, we're still sampling the noise from a Gaussian distribution; the mean is 0, and the standard deviation is sampled from a uniform distribution. Think: why?)\n",
        "    - Make sure that the resulting perturbed/noisy image are still represented by numbers from -1 to 1 (so you may need to do some clipping with min -1 and max 1). \n",
        "\n",
        "- To add noise to a batch of images, please use a helper function called add_noise(), outside the train(), validate(), evaluate() functions."
      ]
    },
    {
      "cell_type": "markdown",
      "metadata": {
        "id": "We4Q_Qz_u8ks"
      },
      "source": [
        "**Question 5: Training**\n",
        "\n",
        "Estimated debugging time: 30 min, or longer if you have more severe bugs.\n",
        "\n",
        "TODO\n",
        "\n",
        "- Now, train your CAE model (where your input is the original images), and train your denoising CAE model (where your input is the noisy images). You can set a patience counter on your own (similar to homework 2), meaning if validation loss doesn't decrease for, say, 10 epochs (just an example), then you can stop training. Each training procedure may take half an hour or an hour. It may take many many more hours if you didn't move the model or the data onto GPUs. Moreover, to make sure your training is not lost in case colab disconnects, it's important to save checkpoints! Make sure you wrote the checkpoint saving code in the validate function.\n",
        "- Report the best validation loss. No need to plot the curve, but you can plot it nevertheless to have a better understanding on your training process.\n",
        "\n",
        "Estimated training time in total: 2 hours (depending on your model)?\n",
        "- Please do not spend the 2 hours staring at your log.\n",
        "- You don't need to get the \"best\" model. You only need Question 6, Question 7, and Question 8 to work. Q6 works if your reconstructed images aren't bad (okay to be blurry); Q7 works if your plots looks similar to the presented; Q8 works if ...please read Q8."
      ]
    },
    {
      "cell_type": "code",
      "metadata": {
        "id": "3AAO1KreNDSr"
      },
      "source": [
        "batch_size = 64\n",
        "best_val_loss = float('inf')\n",
        "num_epoch = 100\n",
        "learning_rate = 1e-3\n",
        "log_interval = 100\n",
        "\n",
        "denoising = False\n",
        "keep_training_from_ckpt = False\n",
        "\n",
        "if denoising:\n",
        "    load_path = '/content/drive/My Drive/xxx'\n",
        "else:\n",
        "    load_path = '/content/drive/My Drive/yyy'\n",
        "\n",
        "conv_autoencoder = CAE()\n",
        "if cuda:\n",
        "    conv_autoencoder.to(device)\n",
        "\n",
        "if keep_training_from_ckpt:\n",
        "    conv_autoencoder.load_state_dict(torch.load(load_path))\n",
        "for epoch in range(num_epoch):\n",
        "    start_time = datetime.datetime.now()\n",
        "    train(conv_autoencoder, train_loader, epoch, num_epoch, learning_rate,\n",
        "          weight_decay, log_interval, denoising)\n",
        "    end_time = datetime.datetime.now()\n",
        "    print(f'Trained this epoch using {(end_time - start_time).seconds} seconds')\n",
        "    # validate and save model if it's the best model so far\n",
        "    best_val_loss = validate(conv_autoencoder, valid_loader, best_val_loss,\n",
        "                             denoising)\n",
        "print('Training done; best validation loss {:.4f}'.format(best_val_loss))"
      ],
      "execution_count": null,
      "outputs": []
    },
    {
      "cell_type": "markdown",
      "metadata": {
        "id": "W6kosuPYOsPL"
      },
      "source": [
        "**Question 6: evaluate on test sets**\n",
        "\n",
        "Estimated time: 10 min.\n",
        "\n",
        "Only run the below cell when you're done with training, and you're evaluating on test sets.\n",
        "\n",
        "TODO:\n",
        "- Print out the reconstruction loss on test set for both the CAE and denoising CAE models.\n",
        "- Print out a few reconstructed images (for both models). Here, the input to CAE should be clean images; the input to denoising CAE should be noisy images. It's perfectly fine if your reconstructed images are blurry. If your reconstructed image is extremely bad (for example, if you absolutely can't tell what object it is anymore), then you probably made a mistake in the previous steps. You might have chosen an overly small out_channel, for example. Or, learning might be inadequate. Or, you made a mistake in model saving / model loading."
      ]
    },
    {
      "cell_type": "code",
      "metadata": {
        "id": "tsCmlNczbgPF"
      },
      "source": [
        "# Only run at evaluation time!\n",
        "\n",
        "def print_loss_and_reconstructed_images(denoising):\n",
        "    if denoising:\n",
        "        conv_autoencoder.load_state_dict(torch.load('/content/drive/My Drive/colabs/prep-dl-fall20-hw3/checkpoint/conv_autoencoder_new_denoising.pt'))\n",
        "    else:\n",
        "        conv_autoencoder.load_state_dict(torch.load('/content/drive/My Drive/colabs/prep-dl-fall20-hw3/checkpoint/conv_autoencoder_new_0.pt'))\n",
        "    if cuda:\n",
        "        conv_autoencoder.cuda()\n",
        "    # TODO: evaluate on test set and print out reconstruction loss\n",
        "    raise NotImplementedError\n",
        "\n",
        "    conv_autoencoder.cpu()\n",
        "    # TODO: print out a few (perhaps 16 or 32) reconstructed images for both models\n",
        "    # no need to follow the below code\n",
        "    conv_autoencoder.cpu()\n",
        "    dataiter = iter(test_loader)\n",
        "    images, _ = next(dataiter)\n",
        "    images = images[:32]\n",
        "    if denoising:\n",
        "        images_noisy = add_noise(images)\n",
        "    else:\n",
        "        images_noisy = images\n",
        "    outputs = conv_autoencoder(images_noisy)\n",
        "\n",
        "    plt.figure()\n",
        "    imshow(torchvision.utils.make_grid(images_noisy.data))\n",
        "    plt.figure()\n",
        "    imshow(torchvision.utils.make_grid(outputs.data))"
      ],
      "execution_count": 2,
      "outputs": []
    },
    {
      "cell_type": "markdown",
      "metadata": {
        "id": "KRjLCBzbx0wX"
      },
      "source": [
        "### Plotting loss vs. noise length"
      ]
    },
    {
      "cell_type": "markdown",
      "metadata": {
        "id": "hPVuLgJOo5FZ"
      },
      "source": [
        "**Question 7: plot loss vs. noise length**\n",
        "\n",
        "Estimated time: 30 min.\n",
        "\n",
        "TODO:\n",
        "For both CAE and denoising CAE models you trained, plot loss vs. noise length, for five different images in five separate plots.\n",
        "- Terminology\n",
        "  - The noise length is the L2 norm of the noise you added to the image. So, it will be the norm of image_noisy minus image. \n",
        "  - The loss refers to the reconstruction loss.\n",
        "\n",
        "- For each image...\n",
        "  - **In this part, the input to both CAE and denoising CAE should be noisy images.** But how much noise?\n",
        "  - For each image, at least add 100 different noises with different length (so we're doing at least 100 \"trials\"). Perhaps you can use different standard deviations in the Gaussian distribution (when you add the noise into the images). For example, you can refer to the provided add_noise_coeff function with coeff as an input argument. You don't need to use this function. \n",
        "  - Compute the reconstruction loss for each noise you added. \n",
        "  - Now you would have the following list [(noise length #1, loss #1), (noise length #2, loss #2), ..., (noise length #n, loss #n)] (where n is at least 100) for CAE. You should have a similar list for denoising CAE. Now plot the loss (vertical axis) and length (horizontal axis), of two models, in the same plot. But note that the plot only corresponds to one original clean image.\n",
        "\n",
        "- Do the above for 3 different images.\n",
        "\n",
        "- Feel free to use get_length_and_loss as a template. However, absolutely no need to follow the logic of get_length_and_loss.\n",
        "\n",
        "- For each image, you should see a plot similar to the below trend. Think: why? No need to explain.\n"
      ]
    },
    {
      "cell_type": "code",
      "metadata": {
        "id": "1iSMWmaTAY6Q"
      },
      "source": [
        "def add_noise_coeff(images, coeff):\n",
        "    noise = torch.mul(\n",
        "        torch.randn(images.shape),\n",
        "        torch.tensor([coeff]).view(-1, 1, 1, 1))\n",
        "    images_noisy = images + noise\n",
        "    images_noisy = torch.clamp(images_noisy, -1.0, 1.0)\n",
        "    return images_noisy"
      ],
      "execution_count": null,
      "outputs": []
    },
    {
      "cell_type": "code",
      "metadata": {
        "id": "Vth_qg4287Sa"
      },
      "source": [
        "# Plot loss vs. length\n",
        "\n",
        "denoising = False\n",
        "\n",
        "loss_cae = []\n",
        "length_cae = []\n",
        "loss_dcae = []\n",
        "length_dcae = []\n",
        "\n",
        "def get_length_and_loss(denoising):\n",
        "    loss_ae = []\n",
        "    length_ae = []\n",
        "    autoencoder = CAE()\n",
        "\n",
        "    if denoising:\n",
        "        autoencoder.load_state_dict(torch.load('/content/drive/My Drive/xxx'))\n",
        "    else:\n",
        "        autoencoder.load_state_dict(torch.load('/content/drive/My Drive/yyy'))\n",
        "    if cuda:\n",
        "        autoencoder.cuda()\n",
        "\n",
        "    total_loss = 0\n",
        "    criteria = nn.MSELoss(reduction='none')\n",
        "    autoencoder.eval()\n",
        "    for i, data in enumerate(test_loader):\n",
        "        images, _ = data\n",
        "        coefficient = 0.0\n",
        "        while coefficient < 1.5:\n",
        "            raise NotImplementedError\n",
        "            coefficient += 0.01\n",
        "\n",
        "        return loss_ae, length_ae"
      ],
      "execution_count": null,
      "outputs": []
    },
    {
      "cell_type": "code",
      "metadata": {
        "id": "nxEiz_b9DdoP"
      },
      "source": [
        "loss_cae, length_cae = get_length_and_loss(False)\n",
        "loss_dcae, length_dcae = get_length_and_loss(True)"
      ],
      "execution_count": null,
      "outputs": []
    },
    {
      "cell_type": "code",
      "metadata": {
        "id": "J_Q_jR62-s2W"
      },
      "source": [
        "loss_cae = [float(x) for x in loss_cae]\n",
        "length_cae = [float(x) for x in length_cae]"
      ],
      "execution_count": null,
      "outputs": []
    },
    {
      "cell_type": "code",
      "metadata": {
        "id": "Doi-nOLj_gql"
      },
      "source": [
        "loss_dcae = [float(x) for x in loss_dcae]\n",
        "length_dcae = [float(x) for x in length_dcae]"
      ],
      "execution_count": null,
      "outputs": []
    },
    {
      "cell_type": "code",
      "metadata": {
        "id": "_ZW1N9BSbgLf",
        "outputId": "27718290-76b7-41f5-d86f-9b8dc5cb221e",
        "colab": {
          "base_uri": "https://localhost:8080/",
          "height": 623
        }
      },
      "source": [
        "# Feel free to make the plot prettier.\n",
        "import matplotlib.pyplot as plt\n",
        "plt.figure(figsize=(20,10))\n",
        "plt.scatter(length_cae, loss_cae, label='CAE')\n",
        "plt.scatter(length_dcae, loss_dcae, label='denoising CAE')\n",
        "plt.xlabel('Noise length')\n",
        "plt.ylabel('Loss')\n",
        "plt.legend()"
      ],
      "execution_count": null,
      "outputs": [
        {
          "output_type": "execute_result",
          "data": {
            "text/plain": [
              "<matplotlib.legend.Legend at 0x7f93b10a4c18>"
            ]
          },
          "metadata": {
            "tags": []
          },
          "execution_count": 72
        },
        {
          "output_type": "display_data",
          "data": {
            "image/png": "[encoded data removed]",
            "text/plain": [
              "<Figure size 1440x720 with 1 Axes>"
            ]
          },
          "metadata": {
            "tags": [],
            "needs_background": "light"
          }
        }
      ]
    },
    {
      "cell_type": "code",
      "metadata": {
        "id": "zK5lwXUv8vyE"
      },
      "source": [
        ""
      ],
      "execution_count": null,
      "outputs": []
    },
    {
      "cell_type": "markdown",
      "metadata": {
        "id": "_lRbkIoSyM2u"
      },
      "source": [
        "### Visualizing interpolation"
      ]
    },
    {
      "cell_type": "markdown",
      "metadata": {
        "id": "IEVg5TMxum4p"
      },
      "source": [
        "Congrats on getting this far! Here is a final question.\n",
        "\n",
        "**Question 8: interpolating latents**\n",
        "\n",
        "Estimated time: 30 min to 1 hour.\n",
        "\n",
        "Suppose the encoder is E, decoder is D. We essentially did the following: yhat = D(E(y)) where y is the input and yhat is the reconstructed image.\n",
        "\n",
        "Let z = E(y), so z is called the latent. Specifically, we obtain z after the batch normalization / pooling layers of the encoder.\n",
        "\n",
        "Now, let's try interpolating the z for one image and the z for another image!\n",
        "\n",
        "TODO:\n",
        "- Suppose the 0th image in the test set is called y0, and the 1st image in the test set is called y1. They correspond to latents z0 and z1 respectively.\n",
        "- Now, set new z by one of the following eleven choices and then print out the reconstructed image. \n",
        "  - z = 0.0 * z0 + 1.0 * z1\n",
        "  - z = 0.1 * z0 + 0.9 * z1\n",
        "  - z = 0.2 * z0 + 0.8 * z1\n",
        "  - ...\n",
        "  - z = 1.0 * z0 + 0.0 * z1\n",
        "- So, your result (to be submitted) should be...\n",
        "  - an image generated by the following latent: z = 0.0 * z0 + 1.0 * z1\n",
        "  - an image generated by the following latent: z = 0.1 * z0 + 0.9 * z1\n",
        "  - ...\n",
        "  - an image generated by the following latent: z = 1.0 * z0 + 0.0 * z1\n",
        "- Hint: you should see that your images gradually change from y1 to y0. If y1 is a tshirt and y0 is a shoe, then you should see that the images change gradually from a tshirt to a shoe.\n",
        "- You only need to do this for the regular CAE.\n",
        "- Explain clearly what your y1 is, and what your y0 is.\n",
        "\n",
        "\n",
        "\n",
        "\n",
        "\n",
        "Here is some code which may be helpful. You don't need to use the below.\n",
        "```\n",
        "    model_children = list(model.children())\n",
        "    print(\"model children: \", model_children)\n",
        "```\n",
        "You can use elements in model_children to process your inputs. You can also add another helper function (other than init and forward) in the CAE class. Your call!\n"
      ]
    },
    {
      "cell_type": "code",
      "metadata": {
        "id": "X2NIo3h74Ukh"
      },
      "source": [
        "autoencoder = CAE()\n",
        "autoencoder.load_state_dict(torch.load('/content/drive/My Drive/xxx'))\n",
        "autoencoder.cpu()"
      ],
      "execution_count": null,
      "outputs": []
    },
    {
      "cell_type": "code",
      "metadata": {
        "id": "0OTnILZ65h4B"
      },
      "source": [
        "def visualize_one_model(model, image_id, image_id2, gamma1):\n",
        "    raise NotImplementedError"
      ],
      "execution_count": null,
      "outputs": []
    },
    {
      "cell_type": "code",
      "metadata": {
        "id": "cdA-Z99GSR2w"
      },
      "source": [
        "for k in np.arange(0, 1.01, 0.1):\n",
        "  print('k =', k)\n",
        "  visualize_one_model(autoencoder, 0, 1, k)"
      ],
      "execution_count": null,
      "outputs": []
    },
    {
      "cell_type": "code",
      "metadata": {
        "id": "k111vpyATl8k"
      },
      "source": [
        ""
      ],
      "execution_count": null,
      "outputs": []
    }
  ]
}